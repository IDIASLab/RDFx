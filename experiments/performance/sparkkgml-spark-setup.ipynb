{
 "cells": [
  {
   "cell_type": "code",
   "execution_count": null,
   "id": "5e32752a",
   "metadata": {},
   "outputs": [],
   "source": [
    "# This code is run in Oracle Cloud Infrastructure with Data Science and Data Flow services\n",
    "import ads\n",
    "ads.set_auth(\"resource_principal\") # Supported values: resource_principal, api_key\n",
    "%load_ext dataflow.magics"
   ]
  },
  {
   "cell_type": "code",
   "execution_count": null,
   "id": "da9dc4e8",
   "metadata": {},
   "outputs": [],
   "source": [
    "# connecting to dataflow service to create Spark application\n",
    "# 'numExecutors' and 'ocpus' in executorShapeConfig, should be adjusted to create desired experiment parameters\n",
    "import json\n",
    "command = {\n",
    "    \"compartmentId\": \"ocid1.compartment.oc1..aaaaaaaazpukv3ckmxt3lkjzvjf4kaiuwmsdz6su25zucjutcxuqqjmrgsqq\",\n",
    "    \"displayName\": \"2exec-64core\",\n",
    "    \"language\": \"PYTHON\",\n",
    "    \"sparkVersion\": \"3.2.1\",\n",
    "    \"driverShape\": \"VM.Standard.E3.Flex\",\n",
    "    \"executorShape\": \"VM.Standard.E3.Flex\",\n",
    "    \"driverShapeConfig\":{\"ocpus\":1,\"memoryInGBs\":16},\n",
    "    \"executorShapeConfig\":{\"ocpus\":64,\"memoryInGBs\":512},\n",
    "    \"numExecutors\": 2,\n",
    "    \"type\": \"SESSION\",\n",
    "    \"configuration\": {\"spark.archives\":\"oci://dataflow-logs@id79isy5uol3/conda_environments/cpu/PySpark 3.2 and Data Flow/3.0/pyspark32_p38_cpu_v3#conda\"}\n",
    "}\n",
    "command = f'\\'{json.dumps(command)}\\''\n",
    " \n",
    "%create_session -l python -c $command"
   ]
  },
  {
   "cell_type": "code",
   "execution_count": null,
   "id": "86229a68",
   "metadata": {},
   "outputs": [],
   "source": [
    "%%spark\n",
    "# import necessary modules from sparkkgml \n",
    "from sparkkgml.feature_engineering import FeatureEngineering\n",
    "from sparkkgml.vectorization import Vectorization\n",
    "import time"
   ]
  },
  {
   "cell_type": "code",
   "execution_count": null,
   "id": "57501331",
   "metadata": {},
   "outputs": [],
   "source": [
    "%%spark\n",
    "# preprocess\n",
    "from pyspark.sql.functions import when\n",
    "from pyspark.sql.types import IntegerType\n",
    "# read the data \n",
    "df= spark.read.csv(\"oci://example@id79isy5uol3/data.csv\" ,sep = '\\t', header=True)\n",
    "# replace '\\N' values with 0 in the specified column\n",
    "df = df.withColumn('runtimeMinutes', when(df['runtimeMinutes'] == \"\\\\N\", -1).otherwise(df['runtimeMinutes']))\n",
    "df = df.withColumn('startYear', when(df['startYear'] == \"\\\\N\", 0).otherwise(df['startYear']))\n",
    "df = df.withColumn('endYear', when(df['endYear'] == \"\\\\N\", 0).otherwise(df['endYear']))\n",
    "# change the datatype of the column to IntegerType\n",
    "df = df.withColumn('runtimeMinutes', df['runtimeMinutes'].cast(IntegerType()))\n",
    "df = df.withColumn('startYear', df['startYear'].cast(IntegerType()))\n",
    "df = df.withColumn('endYear', df['endYear'].cast(IntegerType()))"
   ]
  },
  {
   "cell_type": "code",
   "execution_count": null,
   "id": "ff0e67d1",
   "metadata": {},
   "outputs": [],
   "source": [
    "%%spark\n",
    "# run the code in a loop and append runtimes for every run \n",
    "feature_eng_times=[]\n",
    "vectorization_times=[]\n",
    "total_times=[]\n",
    "\n",
    "for i in range(10):\n",
    "    total_time_start = time.time()\n",
    "    # create an instance of FeatureEngineering\n",
    "    # call getFeatures function and get features for every column\n",
    "    featureEngineeringObject=FeatureEngineering()\n",
    "    start_time1 = time.time()\n",
    "    df2,features=featureEngineeringObject.getFeatures(df)\n",
    "    end_time1 = time.time()\n",
    "    feature_eng_times.append(round(end_time1 - start_time1, 2))\n",
    "\n",
    "    # create an instance of Vectorization module\n",
    "    # call vectorize function and digitaze all the features\n",
    "    vectorizationObject=Vectorization()\n",
    "    start_time1 = time.time()\n",
    "    digitized_df=vectorizationObject.vectorize(df2,features)\n",
    "    end_time1 = time.time()\n",
    "    vectorization_times.append(round(end_time1 - start_time1, 2))\n",
    "\n",
    "    total_time_end = time.time()\n",
    "    total_times.append(round(total_time_end - total_time_start, 2))"
   ]
  },
  {
   "cell_type": "code",
   "execution_count": null,
   "id": "1ad0c788",
   "metadata": {},
   "outputs": [],
   "source": [
    "%%spark\n",
    "print('feature_eng_times: ' + str(feature_eng_times))\n",
    "print('vectorization_times: ' + str(vectorization_times) )\n",
    "print('total_times: '  + str(total_times) )"
   ]
  },
  {
   "cell_type": "code",
   "execution_count": null,
   "id": "a911614b",
   "metadata": {},
   "outputs": [],
   "source": []
  }
 ],
 "metadata": {
  "kernelspec": {
   "display_name": "Python 3 (ipykernel)",
   "language": "python",
   "name": "python3"
  },
  "language_info": {
   "codemirror_mode": {
    "name": "ipython",
    "version": 3
   },
   "file_extension": ".py",
   "mimetype": "text/x-python",
   "name": "python",
   "nbconvert_exporter": "python",
   "pygments_lexer": "ipython3",
   "version": "3.11.1"
  }
 },
 "nbformat": 4,
 "nbformat_minor": 5
}
