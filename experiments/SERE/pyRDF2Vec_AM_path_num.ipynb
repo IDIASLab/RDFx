{
 "cells": [
  {
   "cell_type": "code",
   "execution_count": null,
   "id": "5ed34d12-5ce8-4055-8f0e-b9b2682ffb47",
   "metadata": {
    "tags": []
   },
   "outputs": [],
   "source": [
    "from pyrdf2vec.graphs import KG\n",
    "from pyrdf2vec.walkers import RandomWalker\n",
    "import pandas as pd\n",
    "import time"
   ]
  },
  {
   "cell_type": "code",
   "execution_count": null,
   "id": "3306f7d9-2b85-4651-9ea8-79d06825810c",
   "metadata": {
    "tags": []
   },
   "outputs": [],
   "source": [
    "# Initialize the knowledge graph (KG) object with the RDF data\n",
    "kg = KG(\n",
    "    \"../AM/rdf_am-data.ttl\",  # Path to the RDF data file\n",
    "    skip_predicates={},        # Set of predicates to skip during KG creation (empty here)\n",
    ")\n"
   ]
  },
  {
   "cell_type": "code",
   "execution_count": null,
   "id": "0aeeff79-1160-4906-b629-40558568d015",
   "metadata": {
    "tags": []
   },
   "outputs": [],
   "source": [
    "# Read the CSV file containing entities and their associated path numbers into a pandas DataFrame\n",
    "df = pd.read_csv(\"entity_path_numbers.csv\")\n",
    "# Filter entities with a path number less than 1,000,000 and convert them to a list\n",
    "entities = df[df['pathNum'] < 1000000]['entity'].unique().tolist()"
   ]
  },
  {
   "cell_type": "code",
   "execution_count": null,
   "id": "6795b207-84f8-4859-ace0-bf8df1741476",
   "metadata": {
    "tags": []
   },
   "outputs": [],
   "source": [
    "# Initialize lists to store the number of paths and the runtime for each iteration\n",
    "paths_nums = []\n",
    "run_times = []\n",
    "\n",
    "# Iterate through the entities list in increments of 10\n",
    "for i in range(10, len(entities), 10):\n",
    "    \n",
    "    # Initialize the RandomWalker with a maximum depth of 4\n",
    "    walker = RandomWalker(max_depth=4)\n",
    "    \n",
    "    # Measure the time taken to extract walks for the current set of entities\n",
    "    start_time = time.time()\n",
    "    walks = walker.extract(kg, entities[:i])\n",
    "    end_time = time.time()\n",
    "    \n",
    "    # Calculate the runtime and round it to 3 decimal places\n",
    "    runtime = round(end_time - start_time, 3)\n",
    "    run_times.append(runtime)  # Store the runtime\n",
    "    \n",
    "    # Calculate the total number of paths generated and store it\n",
    "    paths_nums.append(sum(len(sublist) for sublist in walks))\n",
    "    \n",
    "    # Print the current iteration and its corresponding runtime\n",
    "    print(i, ':', runtime)\n",
    "    # Print the list of runtimes accumulated so far\n",
    "    print(run_times)"
   ]
  },
  {
   "cell_type": "code",
   "execution_count": null,
   "id": "93051e8b-b7ed-4dd3-85f3-cd032ffcebbc",
   "metadata": {},
   "outputs": [],
   "source": []
  }
 ],
 "metadata": {
  "kernelspec": {
   "display_name": "Python [conda env:pyspark32_p38_cpu_v3]",
   "language": "python",
   "name": "conda-env-pyspark32_p38_cpu_v3-py"
  },
  "language_info": {
   "codemirror_mode": {
    "name": "ipython",
    "version": 3
   },
   "file_extension": ".py",
   "mimetype": "text/x-python",
   "name": "python",
   "nbconvert_exporter": "python",
   "pygments_lexer": "ipython3",
   "version": "3.8.16"
  }
 },
 "nbformat": 4,
 "nbformat_minor": 5
}
