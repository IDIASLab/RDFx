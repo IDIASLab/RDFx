{
 "cells": [
  {
   "cell_type": "code",
   "execution_count": null,
   "id": "5ed34d12-5ce8-4055-8f0e-b9b2682ffb47",
   "metadata": {
    "tags": []
   },
   "outputs": [],
   "source": [
    "from pyrdf2vec.graphs import KG\n",
    "from pyrdf2vec.walkers import RandomWalker\n",
    "import pandas as pd\n",
    "import time"
   ]
  },
  {
   "cell_type": "code",
   "execution_count": null,
   "id": "e8a650a0-b5a0-477d-a1d6-e815d967e1f9",
   "metadata": {},
   "outputs": [],
   "source": [
    "# Initialize the knowledge graph (KG) object with the RDF data\n",
    "kg=KG(\n",
    "        \"recipekg_1-4.ttl\",\n",
    "        skip_predicates={},\n",
    "    )"
   ]
  },
  {
   "cell_type": "code",
   "execution_count": null,
   "id": "104499d3-3e14-4e92-9c2e-12a8b6bca277",
   "metadata": {
    "tags": []
   },
   "outputs": [],
   "source": [
    "df = pd.read_csv(\"recipe_uris_1-4.csv\")\n",
    "# Extract URIs from the 'Recipe URI' column and convert them into a list\n",
    "recipes = df['recipes'].tolist()"
   ]
  },
  {
   "cell_type": "code",
   "execution_count": null,
   "id": "4980d537",
   "metadata": {},
   "outputs": [],
   "source": [
    "# Initialize lists to store the number of paths and the runtime for each iteration\n",
    "paths_nums = []\n",
    "run_times = []\n",
    "\n",
    "# Iterate through the entities list in increments of 10\n",
    "for i in range(10, len(recipes), 1000):\n",
    "    \n",
    "    # Initialize the RandomWalker with a maximum depth of 4\n",
    "    walker = RandomWalker(max_depth=4)\n",
    "    \n",
    "    # Measure the time taken to extract walks for the current set of entities\n",
    "    start_time = time.time()\n",
    "    walks = walker.extract(kg, recipes[:i])\n",
    "    end_time = time.time()\n",
    "    \n",
    "    # Calculate the runtime and round it to 3 decimal places\n",
    "    runtime = round(end_time - start_time, 3)\n",
    "    run_times.append(runtime)  # Store the runtime\n",
    "    \n",
    "    # Calculate the total number of paths generated and store it\n",
    "    paths_nums.append(sum(len(sublist) for sublist in walks))\n",
    "    \n",
    "    # Print the current iteration and its corresponding runtime\n",
    "    print(i, ':', runtime)\n",
    "    # Print the list of runtimes accumulated so far\n",
    "    print(run_times)"
   ]
  },
  {
   "cell_type": "code",
   "execution_count": null,
   "id": "93051e8b-b7ed-4dd3-85f3-cd032ffcebbc",
   "metadata": {},
   "outputs": [],
   "source": []
  }
 ],
 "metadata": {
  "kernelspec": {
   "display_name": "Python [conda env:pyspark32_p38_cpu_v3]",
   "language": "python",
   "name": "conda-env-pyspark32_p38_cpu_v3-py"
  },
  "language_info": {
   "codemirror_mode": {
    "name": "ipython",
    "version": 3
   },
   "file_extension": ".py",
   "mimetype": "text/x-python",
   "name": "python",
   "nbconvert_exporter": "python",
   "pygments_lexer": "ipython3",
   "version": "3.8.16"
  }
 },
 "nbformat": 4,
 "nbformat_minor": 5
}
